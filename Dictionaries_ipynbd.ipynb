{
  "nbformat": 4,
  "nbformat_minor": 0,
  "metadata": {
    "colab": {
      "name": "Dictionaries.ipynbd",
      "provenance": []
    },
    "kernelspec": {
      "name": "python3",
      "display_name": "Python 3"
    },
    "language_info": {
      "name": "python"
    }
  },
  "cells": [
    {
      "cell_type": "code",
      "execution_count": 2,
      "metadata": {
        "colab": {
          "base_uri": "https://localhost:8080/"
        },
        "id": "2utUYNtS3lBB",
        "outputId": "c2a11e61-db62-488c-9a9d-628ec71a0e88"
      },
      "outputs": [
        {
          "output_type": "stream",
          "name": "stdout",
          "text": [
            "{'artist': 'Rihanna', 'album': 'Anti', 'song': 'Work', 'year': '2016'}\n"
          ]
        }
      ],
      "source": [
        "# create dictionary\n",
        "\n",
        "music_info_dict = {\n",
        "    \"artist\": \"Rihanna\",\n",
        "    \"album\": \"Anti\",\n",
        "    \"song\": \"Work\",\n",
        "    \"year\": \"2016\"\n",
        "}\n",
        "print(music_info_dict)"
      ]
    },
    {
      "cell_type": "code",
      "source": [
        "# with dict() Constructor\n",
        "discography_info = dict(artist=\"Drake\", album=\"Take Care\", song=\"Crew Love\", year=\"2011\")\n",
        "\n",
        "print(discography_info)"
      ],
      "metadata": {
        "colab": {
          "base_uri": "https://localhost:8080/"
        },
        "id": "D8EMAC0j7vC8",
        "outputId": "937fd25a-cb72-4b5b-92c8-3ccc6bf9bc82"
      },
      "execution_count": 3,
      "outputs": [
        {
          "output_type": "stream",
          "name": "stdout",
          "text": [
            "{'artist': 'Drake', 'album': 'Take Care', 'song': 'Crew Love', 'year': '2011'}\n"
          ]
        }
      ]
    },
    {
      "cell_type": "code",
      "source": [
        "#Getting the value of \"artist\" key\n",
        "artist_value = music_info_dict[\"artist\"]\n",
        "print(artist_value)"
      ],
      "metadata": {
        "colab": {
          "base_uri": "https://localhost:8080/"
        },
        "id": "mcMcDw5R-LlO",
        "outputId": "3bd21b97-f520-4aaf-edd5-f2cd0614db27"
      },
      "execution_count": 4,
      "outputs": [
        {
          "output_type": "stream",
          "name": "stdout",
          "text": [
            "Rihanna\n"
          ]
        }
      ]
    },
    {
      "cell_type": "code",
      "source": [
        "#using get\n",
        "song_value = music_info_dict.get(\"song\")\n",
        "print(song_value)"
      ],
      "metadata": {
        "colab": {
          "base_uri": "https://localhost:8080/"
        },
        "id": "kkoMsluP-h0A",
        "outputId": "1d37d927-dd61-4fde-a0c6-213b26992dac"
      },
      "execution_count": 5,
      "outputs": [
        {
          "output_type": "stream",
          "name": "stdout",
          "text": [
            "Work\n"
          ]
        }
      ]
    },
    {
      "cell_type": "code",
      "source": [
        "#Changing the Values in discography dictionary\n",
        "discography_info[\"album\"] = \"So Far Gone\"\n",
        "print(discography_info)"
      ],
      "metadata": {
        "colab": {
          "base_uri": "https://localhost:8080/"
        },
        "id": "C8AwvT1Y_sMj",
        "outputId": "9b32517b-5aa3-4b52-ba40-02719294db55"
      },
      "execution_count": 7,
      "outputs": [
        {
          "output_type": "stream",
          "name": "stdout",
          "text": [
            "{'artist': 'Drake', 'album': 'So Far Gone', 'song': 'Crew Love', 'year': '2011'}\n"
          ]
        }
      ]
    },
    {
      "cell_type": "code",
      "source": [
        "#Loop Through Dictionary by print key names only\n",
        "for category in music_info_dict:\n",
        "  print(category)"
      ],
      "metadata": {
        "colab": {
          "base_uri": "https://localhost:8080/"
        },
        "id": "XXUH7IUHALbD",
        "outputId": "dfd3e356-8cd2-49b3-9bc3-81481d69c685"
      },
      "execution_count": 8,
      "outputs": [
        {
          "output_type": "stream",
          "name": "stdout",
          "text": [
            "artist\n",
            "album\n",
            "song\n",
            "year\n"
          ]
        }
      ]
    },
    {
      "cell_type": "code",
      "source": [
        "#Printing the values in the dictionary\n",
        "for entry in music_info_dict:\n",
        "  print(music_info_dict[entry])"
      ],
      "metadata": {
        "colab": {
          "base_uri": "https://localhost:8080/"
        },
        "id": "DESGECalAjGc",
        "outputId": "cef6adc7-9533-4a20-fd0c-09a9d6bf4327"
      },
      "execution_count": 9,
      "outputs": [
        {
          "output_type": "stream",
          "name": "stdout",
          "text": [
            "Rihanna\n",
            "Anti\n",
            "Work\n",
            "2016\n"
          ]
        }
      ]
    },
    {
      "cell_type": "code",
      "source": [
        "#Printing values using .values()\n",
        "for entry in music_info_dict.values():\n",
        "  print(entry)"
      ],
      "metadata": {
        "colab": {
          "base_uri": "https://localhost:8080/"
        },
        "id": "BQrT7MQ5A5ql",
        "outputId": "3b9b483c-513e-4edd-be91-0a572f5035cf"
      },
      "execution_count": 11,
      "outputs": [
        {
          "output_type": "stream",
          "name": "stdout",
          "text": [
            "Rihanna\n",
            "Anti\n",
            "Work\n",
            "2016\n"
          ]
        }
      ]
    },
    {
      "cell_type": "code",
      "source": [
        "#Printing both the Keys and values using .items()\n",
        "for category, entry in music_info_dict.items():\n",
        "  print(category, entry)"
      ],
      "metadata": {
        "colab": {
          "base_uri": "https://localhost:8080/"
        },
        "id": "t1FnBjlQBNYI",
        "outputId": "adcd3d91-dadc-44d0-ee74-3b577d2fc523"
      },
      "execution_count": 13,
      "outputs": [
        {
          "output_type": "stream",
          "name": "stdout",
          "text": [
            "artist Rihanna\n",
            "album Anti\n",
            "song Work\n",
            "year 2016\n"
          ]
        }
      ]
    },
    {
      "cell_type": "code",
      "source": [
        "#checking to see if category exists\n",
        "if \"song\" in music_info_dict:\n",
        "  print('The song is in')"
      ],
      "metadata": {
        "colab": {
          "base_uri": "https://localhost:8080/"
        },
        "id": "IriDZRU-B0Ma",
        "outputId": "f3e32d1a-d568-43e7-e49d-2139b5798b92"
      },
      "execution_count": 16,
      "outputs": [
        {
          "output_type": "stream",
          "name": "stdout",
          "text": [
            "The song is in\n"
          ]
        }
      ]
    },
    {
      "cell_type": "code",
      "source": [
        "family = {\n",
        "  \"child1\" : {\n",
        "    \"name\" : \"Kei\",\n",
        "    \"year\" : 1994\n",
        "  },\n",
        "  \"child2\" : {\n",
        "    \"name\" : \"Marion\",\n",
        "    \"year\" : 2025\n",
        "  },\n",
        "  \"child3\" : {\n",
        "    \"name\" : \"Cass\",\n",
        "    \"year\" : 2017\n",
        "  }\n",
        "}\n",
        "\n",
        "print(family)\n"
      ],
      "metadata": {
        "colab": {
          "base_uri": "https://localhost:8080/"
        },
        "id": "XF9RnO98FQqh",
        "outputId": "3f6184b1-5add-4708-9dfe-cf6881f4d24b"
      },
      "execution_count": 1,
      "outputs": [
        {
          "output_type": "stream",
          "name": "stdout",
          "text": [
            "{'child1': {'name': 'Kei', 'year': 1994}, 'child2': {'name': 'Marion', 'year': 2025}, 'child3': {'name': 'Cass', 'year': 2017}}\n"
          ]
        }
      ]
    }
  ]
}